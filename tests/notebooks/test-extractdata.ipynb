{
 "cells": [
  {
   "cell_type": "markdown",
   "metadata": {},
   "source": [
    "# Imports des modules"
   ]
  },
  {
   "cell_type": "code",
   "execution_count": null,
   "metadata": {},
   "outputs": [],
   "source": [
    "import json\n",
    "import os\n",
    "from pandas.io.json import json_normalize"
   ]
  },
  {
   "cell_type": "markdown",
   "metadata": {},
   "source": [
    "# Parsing des articles"
   ]
  },
  {
   "cell_type": "markdown",
   "metadata": {},
   "source": [
    "### Parsind pdf article using science-parse\n",
    "https://github.com/allenai/science-parse"
   ]
  },
  {
   "cell_type": "code",
   "execution_count": 3,
   "metadata": {},
   "outputs": [],
   "source": [
    "_PAPER_NAME_FILE = \"Abdellaoui_et_al_2018\""
   ]
  },
  {
   "cell_type": "code",
   "execution_count": 4,
   "metadata": {},
   "outputs": [],
   "source": [
    "def parse_paper(paper):\n",
    "    print(\"Paper Parsing...\")\n",
    "    os.system('curl -v -H \"Content-type: application/pdf\" --data-binary @{0}.pdf \"http://scienceparse.allenai.org/v1\" > {1}.json'.format(paper, paper + \"_parsed\"))"
   ]
  },
  {
   "cell_type": "code",
   "execution_count": 5,
   "metadata": {},
   "outputs": [
    {
     "name": "stdout",
     "output_type": "stream",
     "text": [
      "Paper Parsing...\n"
     ]
    }
   ],
   "source": [
    "parse_paper(_PAPER_NAME_FILE)"
   ]
  },
  {
   "cell_type": "markdown",
   "metadata": {},
   "source": [
    "# Extraction des données / Méta-données"
   ]
  },
  {
   "cell_type": "markdown",
   "metadata": {},
   "source": [
    "### Chargemenet du contenu du json\n",
    "https://www.kaggle.com/jboysen/quick-tutorial-flatten-nested-json-in-pandas"
   ]
  },
  {
   "cell_type": "code",
   "execution_count": 6,
   "metadata": {},
   "outputs": [],
   "source": [
    "with open('Abdellaoui_et_al_2018_parsed.json') as paper:\n",
    "    paper_dictionnary = json.load(paper)"
   ]
  },
  {
   "cell_type": "markdown",
   "metadata": {},
   "source": [
    "### Extraction de données / Méta-données"
   ]
  },
  {
   "cell_type": "code",
   "execution_count": 23,
   "metadata": {},
   "outputs": [],
   "source": [
    "paper_text = json_normalize(paper_dictionnary['sections'])\n",
    "paper_references = json_normalize(paper_dictionnary['references'])\n",
    "paper_authors = json_normalize(paper_dictionnary['authors'])"
   ]
  },
  {
   "cell_type": "code",
   "execution_count": 8,
   "metadata": {},
   "outputs": [
    {
     "name": "stdout",
     "output_type": "stream",
     "text": [
      "Science-Parser ID:\n",
      "SP:7bf5545d35c387204afef386611ce228f0df7194\n"
     ]
    }
   ],
   "source": [
    "print(\"Science-Parser ID:\")\n",
    "print(paper_dictionnary[\"id\"])"
   ]
  },
  {
   "cell_type": "code",
   "execution_count": 9,
   "metadata": {},
   "outputs": [
    {
     "name": "stdout",
     "output_type": "stream",
     "text": [
      "Parsed Data:\n",
      "dict_keys(['sections', 'year', 'references', 'id', 'authors', 'abstractText', 'title'])\n"
     ]
    }
   ],
   "source": [
    "print(\"Parsed Data:\")\n",
    "print(paper_dictionnary.keys())"
   ]
  },
  {
   "cell_type": "code",
   "execution_count": 10,
   "metadata": {},
   "outputs": [
    {
     "name": "stdout",
     "output_type": "stream",
     "text": [
      "Titre:\n",
      "Detection of Cases of Noncompliance to Drug Treatment in Patient Forum Posts: Topic Model Approach\n"
     ]
    }
   ],
   "source": [
    "print(\"Titre:\")\n",
    "print(paper_dictionnary[\"title\"])"
   ]
  },
  {
   "cell_type": "code",
   "execution_count": 11,
   "metadata": {},
   "outputs": [
    {
     "name": "stdout",
     "output_type": "stream",
     "text": [
      "Année:\n",
      "2018\n"
     ]
    }
   ],
   "source": [
    "print(\"Année:\")\n",
    "print(paper_dictionnary[\"year\"])"
   ]
  },
  {
   "cell_type": "code",
   "execution_count": 12,
   "metadata": {},
   "outputs": [
    {
     "name": "stdout",
     "output_type": "stream",
     "text": [
      "Abstract:\n",
      "Background: Medication nonadherence is a major impediment to the management of many health conditions. A better understanding of the factors underlying noncompliance to treatment may help health professionals to address it. Patients use peer-to-peer virtual communities and social media to share their experiences regarding their treatments and diseases. Using topic models makes it possible to model themes present in a collection of posts, thus to identify cases of noncompliance. Objective: The aim of this study was to detect messages describing patients’ noncompliant behaviors associated with a drug of interest. Thus, the objective was the clustering of posts featuring a homogeneous vocabulary related to nonadherent attitudes. Methods: We focused on escitalopram and aripiprazole used to treat depression and psychotic conditions, respectively. We implemented a probabilistic topic model to identify the topics that occurred in a corpus of messages mentioning these drugs, posted from 2004 to 2013 on three of the most popular French forums. Data were collected using a Web crawler designed by Kappa Santé as part of the Detec’t project to analyze social media for drug safety. Several topics were related to noncompliance to treatment. Results: Starting from a corpus of 3650 posts related to an antidepressant drug (escitalopram) and 2164 posts related to an antipsychotic drug (aripiprazole), the use of latent Dirichlet allocation allowed us to model several themes, including interruptions of treatment and changes in dosage. The topic model approach detected cases of noncompliance behaviors with a recall of 98.5% (272/276) and a precision of 32.6% (272/844). Conclusions: Topic models enabled us to explore patients’ discussions on community websites and to identify posts related with noncompliant behaviors. After a manual review of the messages in the noncompliance topics, we found that noncompliance to treatment was present in 6.17% (276/4469) of the posts. (J Med Internet Res 2018;20(3):e85) doi:10.2196/jmir.9222\n"
     ]
    }
   ],
   "source": [
    "print(\"Abstract:\")\n",
    "print(paper_dictionnary[\"abstractText\"])"
   ]
  },
  {
   "cell_type": "code",
   "execution_count": 17,
   "metadata": {},
   "outputs": [
    {
     "name": "stdout",
     "output_type": "stream",
     "text": [
      "Texte:\n",
      "                                 heading  \\\n",
      "0                                    NaN   \n",
      "1                               KEYWORDS   \n",
      "2                           Introduction   \n",
      "3                             Background   \n",
      "4                              Objective   \n",
      "5                             Prior Work   \n",
      "6                                Methods   \n",
      "7                              Materials   \n",
      "8                           Methods Used   \n",
      "9            Preliminary Data Processing   \n",
      "10                         Preprocessing   \n",
      "11    Standardization of Dosage Mentions   \n",
      "12                      Model Estimation   \n",
      "13        Document-Term Matrix Weighting   \n",
      "14  Latent Dirichlet Allocation Modeling   \n",
      "15                            Evaluation   \n",
      "16                              Software   \n",
      "17                               Results   \n",
      "18              Datasets Characteristics   \n",
      "19                      Model Estimation   \n",
      "20                   Escitalopram Topics   \n",
      "21                   Aripiprazole Topics   \n",
      "22            Evaluation of the Approach   \n",
      "23                   Treatment Cessation   \n",
      "24                            Discussion   \n",
      "25                    Principal Findings   \n",
      "26                 Clinical Significance   \n",
      "27                          Escitalopram   \n",
      "28                          Aripiprazole   \n",
      "29                           Limitations   \n",
      "30            Comparison With Other Work   \n",
      "31                           Conclusions   \n",
      "32                 Conflicts of Interest   \n",
      "33                 Multimedia Appendix 1   \n",
      "34                 Multimedia Appendix 2   \n",
      "35                         Abbreviations   \n",
      "\n",
      "                                                 text  \n",
      "0   Background: Medication nonadherence is a major...  \n",
      "1   medication adherence; compliance; infodemiolog...  \n",
      "2                                                      \n",
      "3   A report published by the World Health Organiz...  \n",
      "4   Our objective was to evaluate a topic model ap...  \n",
      "5   Topic modeling is a text mining method designe...  \n",
      "6   A summary of the approach presented in this st...  \n",
      "7   The data was extracted from the Detec’t databa...  \n",
      "8                                                      \n",
      "9                                                      \n",
      "10  The aim of the preprocessing step is the data ...  \n",
      "11  As variations in representing dosage in posts ...  \n",
      "12                                                     \n",
      "13  The document-term matrix (DTM) describes the f...  \n",
      "14  In this study, we decided to work with LDA alg...  \n",
      "15  The aim of the evaluation step was to assess t...  \n",
      "16  Analyses were performed using the R software. ...  \n",
      "17                                                     \n",
      "18  Table 1 shows the number of messages in each c...  \n",
      "19  The log Bayes factor topic selection method re...  \n",
      "20  The list of topics and the distribution of mes...  \n",
      "21  The topics obtained by reproducing the modelin...  \n",
      "22  IAA rate was measured on 20% (169/844) of the ...  \n",
      "23  We identified 62 messages corresponding to non...  \n",
      "24                                                     \n",
      "25  Our study shows that topic models are useful t...  \n",
      "26  We focused on escitalopram and aripiprazole us...  \n",
      "27  Almost one million individuals (2% of the over...  \n",
      "28  In a recently published review [43], a positiv...  \n",
      "29  Our study focused on two drugs from two distin...  \n",
      "30  Our study, to our knowledge, is the first one ...  \n",
      "31  Topic distributions in messages are a way to c...  \n",
      "32                                     None declared.  \n",
      "33  Exhaustive description of identified topics fo...  \n",
      "34  Topics found in each corpus ranked by the numb...  \n",
      "35  ADR: adverse drug reaction AE: adverse effect ...  \n"
     ]
    }
   ],
   "source": [
    "print(\"Texte:\")\n",
    "print(paper_text)"
   ]
  },
  {
   "cell_type": "code",
   "execution_count": 18,
   "metadata": {},
   "outputs": [
    {
     "name": "stdout",
     "output_type": "stream",
     "text": [
      "Références:\n",
      "                                              authors  \\\n",
      "0       [RB Haynes, H McDonald, AX Garg, P. Montague]   \n",
      "1   [R Nieuwlaat, N Wilczynski, T Navarro, N Hobso...   \n",
      "2   [J Lardon, R Abdellaoui, F Bellet, H Asfari, J...   \n",
      "3   [M Abou Taam, C Rossard, L Cantaloube, N Bousc...   \n",
      "4                         [M Yang, M Kiang, W. Shang]   \n",
      "5                 [M Househ, E Borycki, A. Kushniruk]   \n",
      "6   [KJ Horvath, GP Danilenko, ML Williams, J Simo...   \n",
      "7   [T Taggart, ME Grewe, DF Conserve, C Gliwa, IM...   \n",
      "8                           [T Wang, Z Huang, C. Gan]   \n",
      "9   [M Stellefson, B Chaney, AE Barry, E Chavarria...   \n",
      "10  [JJ Mao, A Chung, A Benton, S Hill, L Ungar, C...   \n",
      "11  [M Chary, N Genes, C Giraud-Carrier, C Hanson,...   \n",
      "12                [Paul M, Dredze M. Semanticscholar]   \n",
      "13         [M Topaz, K Radhakrishnan, V Lei, L. Zhou]   \n",
      "14                       [DM Blei, AY Ng, MI. Jordan]   \n",
      "15                [A Yıldırım, S Üsküdarlı, A. Özgür]   \n",
      "16  [KW Prier, MS Smith, C Giraud-Carrier, CL. Han...   \n",
      "17                                [DD Ghosh, R. Guha]   \n",
      "18  [R Sullivan, A Sarker, K O'Connor, A Goodin, M...   \n",
      "19  [MD Tapi Nzali, S Bringay, C Lavergne, C Molle...   \n",
      "20                [A Yıldırım, S Üsküdarlı, A. Özgür]   \n",
      "21                               [MJ Paul, M. Dredze]   \n",
      "22                               [MJ Paul, M. Dredze]   \n",
      "23      [R Abdellaoui, S Schück, N Texier, A. Burgun]   \n",
      "24  [C Bousquet, B Dahamna, S Guillemin-Lanne, SJ ...   \n",
      "25                            [McHorney CA, Spain CV]   \n",
      "26  [J Iavindrasana, G Cohen, A Depeursinge, H Mül...   \n",
      "27                                        [Porter MF]   \n",
      "28                                         [J. Savoy]   \n",
      "29                              [Salton G, Mcgill MJ]   \n",
      "30                             [Blei DM, Lafferty JD]   \n",
      "31  [K Stevens, P Kegelmeyer, D Andrzejewski, D. B...   \n",
      "32                                         [Taddy MA]   \n",
      "33                            [Sievert C, Shirley KE]   \n",
      "34                                         [J. Cohen]   \n",
      "35                   [I Feinerer, K Hornik, D. Meyer]   \n",
      "36                                [B Grün, K. Hornik]   \n",
      "37   [JP Fagot, A Cuerq, S Samson, A. Fagot-Campagna]   \n",
      "38                           [Sansone RA, Sansone LA]   \n",
      "39  [DI Velligan, M Sajatovic, A Hatch, P Kramata,...   \n",
      "\n",
      "                                                title  \\\n",
      "0   Interventions for helping patients to follow p...   \n",
      "1    Interventions for enhancing medication adherence   \n",
      "2   Adverse drug reaction identification and extra...   \n",
      "3   Analysis of patients' narratives posted on soc...   \n",
      "4   Filtering big data from social media--Building...   \n",
      "5   Empowering patients through social media: the ...   \n",
      "6   Technology use and reasons to participate in s...   \n",
      "7   Social media and HIV: a systematic review of u...   \n",
      "8   On mining latent topics from healthcare chat logs   \n",
      "9   Web 2.0 chronic disease self-management for ol...   \n",
      "10  Online discussion of drug side effects and dis...   \n",
      "11  Epidemiology from tweets: estimating misuse of...   \n",
      "12  A model for mining public health topics from T...   \n",
      "13  Mining clinicians' electronic documentation to...   \n",
      "14                        Latent dirichlet allocation   \n",
      "15  Identifying topics in microblogs using Wikiped...   \n",
      "16       Identifying health-related topics on Twitter   \n",
      "17  What are we 'tweeting' about obesity? Mapping ...   \n",
      "18  Finding potentially unsafe nutritional supplem...   \n",
      "19  What patients can tell us: topic analysis for ...   \n",
      "20  Identifying topics in microblogs using Wikiped...   \n",
      "21  You Are What You Tweet: Analyzing Twitter for ...   \n",
      "22  Discovering health topics in social media usin...   \n",
      "23  Filtering entities to optimize identification ...   \n",
      "24  The adverse drug reactions from patient report...   \n",
      "25  Frequency of and reasons for medication non-fu...   \n",
      "26                     Clinical data mining: a review   \n",
      "27  An algorithm for suffix stripping URL: https:/...   \n",
      "28  Light Stemming Approaches for the French, Port...   \n",
      "29       Introduction to Modern Information Retrieval   \n",
      "30  Topic models URL: http://www.cs.columbia.edu/~...   \n",
      "31  Exploring topic coherence over many models and...   \n",
      "32       On Estimation and Selection for Topic Models   \n",
      "33  LDAvis: A method for visualizing and interpret...   \n",
      "34      A coefficient of agreement for nominal scales   \n",
      "35                    Text mining infrastructure in R   \n",
      "36  Topicmodels: an R package for fitting topic mo...   \n",
      "37  Cohort of one million patients initiating anti...   \n",
      "38  Antidepressant adherence: are patients taking ...   \n",
      "39  Why do psychiatric patients stop antipsychotic...   \n",
      "\n",
      "                                                venue  year  \n",
      "0   Cochrane Database Syst Rev 2002(2):CD000011. [...  2076  \n",
      "1   Cochrane Database Syst Rev 2014;11:CD000011. [...  2014  \n",
      "2   J Med Internet Res 2015 Jul 10;17(7):e171 [FRE...  2015  \n",
      "3                                   J Clin Pharm Ther  2014  \n",
      "4                                     J Biomed Inform  2015  \n",
      "5           Health Informatics J 2014 Mar;20(1):50-58  2014  \n",
      "6                                          AIDS Behav  2012  \n",
      "7                                  J Med Internet Res  2015  \n",
      "8                                     J Biomed Inform  2016  \n",
      "9                                  J Med Internet Res  2013  \n",
      "10                         Pharmacoepidemiol Drug Saf  2013  \n",
      "11                                      J Med Toxicol  2017  \n",
      "12                                                NaN  2011  \n",
      "13        Stud Health Technol Inform 2016;225:856-857  2016  \n",
      "14                                   J Mach Learn Res  2003  \n",
      "15                                                NaN  2016  \n",
      "16                                                SBP  2011  \n",
      "17                              Cartogr Geogr Inf Sci  2013  \n",
      "18  Pac Symp Biocomput 2016;21:528-539 [FREE Full ...  2016  \n",
      "19  JMIR Med Inform 2017 Jul 31;5(3):e23 [FREE Ful...  2017  \n",
      "20                                                NaN  2016  \n",
      "21  Presented at: Fifth International AAAI Confere...  2011  \n",
      "22                                                NaN  2014  \n",
      "23                                                NaN  2017  \n",
      "24                                    JMIR Res Protoc  2017  \n",
      "25                                                NaN  2008  \n",
      "26                      Yearb Med Inform 2009:121-133  1985  \n",
      "27                                     Cs.toronto.edu  1980  \n",
      "28  Proceedings of the 2006 ACM symposium on Appli...  2006  \n",
      "29                             New York: McGraw-Hill,  1986  \n",
      "30                                        CS Columbia  2009  \n",
      "31  Proceedings of the 2012 Joint Conference on Em...  2012  \n",
      "32  Proceedings of the 15th International Conferen...  2012  \n",
      "33  Proceedings of the Workshop on Interactive Lan...  2014  \n",
      "34          Educ Psychol Meas 1960 Apr 01;20(1):37-46  2000  \n",
      "35                                       J Stat Softw  2008  \n",
      "36               J Stat Softw 2011 May 09;40(13):1-30  2011  \n",
      "37  Int J Clin Pract 2016 Sep;70(9):744-751. [doi:...  2016  \n",
      "38                                Innov Clin Neurosci  2012  \n",
      "39                                                NaN  2017  \n"
     ]
    }
   ],
   "source": [
    "print(\"Références:\")\n",
    "print(paper_references)"
   ]
  },
  {
   "cell_type": "code",
   "execution_count": 19,
   "metadata": {},
   "outputs": [
    {
     "name": "stdout",
     "output_type": "stream",
     "text": [
      "Auteurs:\n",
      "  affiliations                   name\n",
      "0           []   Redhouane Abdellaoui\n",
      "1           []        Nathalie Texier\n",
      "2           []  PharmD; Carole Faviez\n",
      "3           []           Anita Burgun\n",
      "4           []        Stéphane Schück\n"
     ]
    }
   ],
   "source": [
    "print(\"Auteurs:\")\n",
    "print(paper_authors)"
   ]
  }
 ],
 "metadata": {
  "kernelspec": {
   "display_name": "Python 3",
   "language": "python",
   "name": "python3"
  },
  "language_info": {
   "codemirror_mode": {
    "name": "ipython",
    "version": 3
   },
   "file_extension": ".py",
   "mimetype": "text/x-python",
   "name": "python",
   "nbconvert_exporter": "python",
   "pygments_lexer": "ipython3",
   "version": "3.6.2"
  }
 },
 "nbformat": 4,
 "nbformat_minor": 2
}
